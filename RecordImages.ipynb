﻿{
 "cells": [
  {
   "cell_type": "code",
   "id": "initial_id",
   "metadata": {
    "collapsed": true,
    "ExecuteTime": {
     "end_time": "2024-07-23T18:29:51.632935Z",
     "start_time": "2024-07-23T18:29:51.628932Z"
    }
   },
   "source": [
    "### Imports ###\n",
    "import cv2 as cv\n",
    "import time\n",
    "import os\n",
    "import pickle\n",
    "import random\n",
    "import config\n",
    "import importlib"
   ],
   "outputs": [],
   "execution_count": 6
  },
  {
   "metadata": {
    "ExecuteTime": {
     "end_time": "2024-07-23T19:01:32.060646Z",
     "start_time": "2024-07-23T19:01:32.055107Z"
    }
   },
   "cell_type": "code",
   "source": [
    "### Configs ###\n",
    "# Webcam\n",
    "WebcamNum = 1\n",
    "\n",
    "# Override for user-defined labels, leave blank [] to record all labels\n",
    "Labels = [\"EinhaendigeSchlange\",\"Schlange\"]\n",
    "\n",
    "# Define the save folder; \"default\"\n",
    "saveFolder = \"SoephieS3\"\n",
    "\n",
    "# Define the capture time\n",
    "waitTimeBegin = 5\n",
    "waitTime = 7\n",
    "holdTime = 8\n",
    "\n",
    "# Change Configs below in config.py\n",
    "### Load Configs ###\n",
    "importlib.reload(config)\n",
    "if(Labels == []):\n",
    "    Labels = config.Labels\n",
    "\n",
    "## Stuff with the configs ##\n"
   ],
   "id": "97abf6e6292c2721",
   "outputs": [],
   "execution_count": 10
  },
  {
   "metadata": {
    "ExecuteTime": {
     "end_time": "2024-07-23T19:02:58.569805Z",
     "start_time": "2024-07-23T19:01:41.550046Z"
    }
   },
   "cell_type": "code",
   "source": [
    "### Capture Images ###\n",
    "# Initialize an array to store face landmarks\n",
    "face_landmarks_array = []\n",
    "\n",
    "# Set VideoCapture to default camera\n",
    "vid = cv.VideoCapture(WebcamNum)\n",
    "\n",
    "cv.namedWindow('Recorderik', cv.WINDOW_NORMAL)\n",
    "vid.set(cv.CAP_PROP_FRAME_WIDTH, 1280)\n",
    "vid.set(cv.CAP_PROP_FRAME_HEIGHT, 720)\n",
    "\n",
    "# Get the starting time\n",
    "start = time.time()\n",
    "start += waitTimeBegin\n",
    "shouldQuit = False\n",
    "\n",
    "# For each label\n",
    "for label in Labels:\n",
    "    \n",
    "    # Create a directory for this label in the Dataset directory\n",
    "    if not shouldQuit:\n",
    "        os.makedirs(f'./Dataset/{saveFolder}/{label}', exist_ok=True)\n",
    "    \n",
    "    # wait to be ready\n",
    "    while not shouldQuit:\n",
    "        ret, frame = vid.read()\n",
    "        frame = cv.flip(frame, 1)\n",
    "        # Calculate the countdown time\n",
    "        countdown = int(waitTime - (time.time() - start))\n",
    "        # Add the countdown time to the frame\n",
    "        cv.putText(frame, \"Record for \"+ label +\" begin in \" + str(countdown), (50, 50), cv.FONT_HERSHEY_SIMPLEX, 1, (0, 0, 255), 2, cv.LINE_AA)\n",
    "        cv.imshow('Recorderik', frame)\n",
    "\n",
    "        if cv.waitKey(1) == ord('q'):\n",
    "            shouldQuit = True\n",
    "        if shouldQuit == True or time.time() - start > waitTime:\n",
    "            break\n",
    "\n",
    "    start = time.time()\n",
    "    # Frame counter \n",
    "    frame_num = 0\n",
    "\n",
    "    while not shouldQuit:\n",
    "        ret, frame = vid.read()\n",
    "        frame = cv.flip(frame, 1)\n",
    "        if ret:\n",
    "            # Convert the image from BGR to RGB\n",
    "            image = cv.cvtColor(frame, cv.COLOR_BGR2RGB)\n",
    "            cv.imwrite(f'./Dataset/{saveFolder}/{label}/frame_{frame_num}_{saveFolder}_{random.randint(0,9999)}.jpg', frame)\n",
    "            frame_num += 1\n",
    "\n",
    "            # Calculate the countdown time\n",
    "            countdown = int(holdTime - (time.time() - start))\n",
    "            # Add the countdown time to the frame\n",
    "            cv.putText(frame, \"Halte die Pose \" + label + \" \" + str(countdown), (50, 50), cv.FONT_HERSHEY_SIMPLEX, 1, (0, 0, 255), 2, cv.LINE_AA)\n",
    "\n",
    "            cv.imshow('Recorderik', frame)\n",
    "\n",
    "            if cv.waitKey(1) == ord('q'):\n",
    "                shouldQuit = True\n",
    "            \n",
    "            # Break the loop if 'q' is pressed or 5 seconds have passed\n",
    "            if shouldQuit == True or time.time() - start > holdTime:\n",
    "                start = time.time()\n",
    "                break\n",
    "        else:\n",
    "            print(\"Video stream not available.\")\n",
    "            break\n",
    "\n",
    "vid.release()\n",
    "cv.destroyAllWindows()"
   ],
   "id": "d2095e3c7605ac38",
   "outputs": [],
   "execution_count": 11
  },
  {
   "metadata": {
    "ExecuteTime": {
     "end_time": "2024-07-14T18:32:05.632205Z",
     "start_time": "2024-07-14T18:32:05.630170Z"
    }
   },
   "cell_type": "code",
   "source": "",
   "id": "7ccd2866dff5d0e",
   "outputs": [],
   "execution_count": 9
  },
  {
   "metadata": {
    "ExecuteTime": {
     "end_time": "2024-07-14T18:32:05.635213Z",
     "start_time": "2024-07-14T18:32:05.632205Z"
    }
   },
   "cell_type": "code",
   "source": "",
   "id": "fd266a086a40c68c",
   "outputs": [],
   "execution_count": 9
  }
 ],
 "metadata": {
  "kernelspec": {
   "display_name": "Python 3",
   "language": "python",
   "name": "python3"
  },
  "language_info": {
   "codemirror_mode": {
    "name": "ipython",
    "version": 2
   },
   "file_extension": ".py",
   "mimetype": "text/x-python",
   "name": "python",
   "nbconvert_exporter": "python",
   "pygments_lexer": "ipython2",
   "version": "2.7.6"
  }
 },
 "nbformat": 4,
 "nbformat_minor": 5
}
